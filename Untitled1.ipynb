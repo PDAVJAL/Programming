{
 "cells": [
  {
   "cell_type": "markdown",
   "id": "4147f285",
   "metadata": {},
   "source": [
    "Python\n",
    "str = \"This is block level code\"\n",
    "print(str)"
   ]
  },
  {
   "cell_type": "markdown",
   "id": "c88429cd",
   "metadata": {},
   "source": [
    "''''''Python\n",
    "str = \"This is block level code\"\n",
    "print(str)"
   ]
  },
  {
   "cell_type": "markdown",
   "id": "daaf104e",
   "metadata": {},
   "source": [
    "```Python\n",
    "str = \"This is block level code\"\n",
    "print(str)"
   ]
  },
  {
   "cell_type": "markdown",
   "id": "06c67028",
   "metadata": {},
   "source": [
    "```Python\n",
    "str = \"This is block level code\"\n",
    "print(str)"
   ]
  },
  {
   "cell_type": "markdown",
   "id": "4a5b22e6",
   "metadata": {},
   "source": [
    "```Python'''\n",
    "'''\n",
    "str = \"This is block level code\"\n",
    "print(str)"
   ]
  },
  {
   "cell_type": "markdown",
   "id": "786c80fb",
   "metadata": {},
   "source": [
    "<code>Python\n",
    "str = \"This is a block level code\"\n",
    "print(str)\n",
    "</code>"
   ]
  },
  {
   "cell_type": "markdown",
   "id": "47c1ecc9",
   "metadata": {},
   "source": [
    "```Python\n",
    "str = \"This is block level code\"\n",
    "print(str)\n",
    "```"
   ]
  },
  {
   "cell_type": "markdown",
   "id": "5c112474",
   "metadata": {},
   "source": [
    "```Python\n",
    "str = \"This is block level code\"\n",
    "print(str)\n",
    "```"
   ]
  },
  {
   "cell_type": "markdown",
   "id": "840210d7",
   "metadata": {},
   "source": [
    "``` Python\n",
    "a=7\n",
    "b=8\n",
    "c=a+b\n",
    "print(c)\n",
    "```"
   ]
  },
  {
   "cell_type": "code",
   "execution_count": null,
   "id": "acd5c659",
   "metadata": {},
   "outputs": [],
   "source": []
  }
 ],
 "metadata": {
  "kernelspec": {
   "display_name": "Python 3",
   "language": "python",
   "name": "python3"
  },
  "language_info": {
   "codemirror_mode": {
    "name": "ipython",
    "version": 3
   },
   "file_extension": ".py",
   "mimetype": "text/x-python",
   "name": "python",
   "nbconvert_exporter": "python",
   "pygments_lexer": "ipython3",
   "version": "3.8.8"
  }
 },
 "nbformat": 4,
 "nbformat_minor": 5
}
